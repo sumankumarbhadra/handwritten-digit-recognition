{
  "cells": [
    {
      "cell_type": "markdown",
      "metadata": {
        "id": "9CCD_5aao3fs"
      },
      "source": [
        "# Handwritten digit recognition using pytorch"
      ]
    },
    {
      "cell_type": "markdown",
      "metadata": {
        "id": "mazoUCU8o_KC"
      },
      "source": [
        "## Import dependency"
      ]
    },
    {
      "cell_type": "code",
      "execution_count": null,
      "metadata": {
        "id": "Zb4SL09QoyJu"
      },
      "outputs": [],
      "source": [
        "import torch\n",
        "from torch import nn, optim\n",
        "from torch.utils.data import DataLoader\n",
        "from torchvision import datasets, transforms\n",
        "import matplotlib.pyplot as plt\n",
        "import numpy as np\n"
      ]
    },
    {
      "cell_type": "markdown",
      "metadata": {
        "id": "asjHIzH2qoiL"
      },
      "source": [
        "## Load dataset"
      ]
    },
    {
      "cell_type": "code",
      "execution_count": null,
      "metadata": {
        "colab": {
          "base_uri": "https://localhost:8080/"
        },
        "id": "hUpj00saqT75",
        "outputId": "ec8989ef-aa6e-4a85-f0f1-d7d067a874b3"
      },
      "outputs": [],
      "source": [
        "transform = transforms.Compose([\n",
        "    transforms.ToTensor(),\n",
        "])\n",
        "\n",
        "# Load MNIST dataset\n",
        "train_dataset = datasets.MNIST(\n",
        "    root='./data',\n",
        "    train=True,\n",
        "    download=True,\n",
        "    transform=transform\n",
        ")\n",
        "\n",
        "test_dataset = datasets.MNIST(\n",
        "    root='./data',\n",
        "    train=False,\n",
        "    download=True,\n",
        "    transform=transform\n",
        ")\n",
        "\n",
        "# Create data loaders\n",
        "train_loader = DataLoader(train_dataset, batch_size=128, shuffle=True)\n",
        "test_loader = DataLoader(test_dataset, batch_size=128, shuffle=False)\n",
        "\n",
        "\n"
      ]
    },
    {
      "cell_type": "markdown",
      "metadata": {
        "id": "ianAAcDcsKTw"
      },
      "source": [
        "## Build Model\n"
      ]
    },
    {
      "cell_type": "code",
      "execution_count": null,
      "metadata": {
        "id": "N_fYiokosM6T"
      },
      "outputs": [],
      "source": [
        "class DigitRecognitionModel(nn.Module):\n",
        "  def __init__(self):\n",
        "    super(DigitRecognitionModel, self).__init__()\n",
        "\n",
        "    self.conv1 = nn.Conv2d(1, 32, kernel_size=3, stride=1, padding=0)\n",
        "    self.pool1 = nn.MaxPool2d(kernel_size=2, stride=2)\n",
        "    self.conv2 = nn.Conv2d(32, 64, kernel_size=3, stride=1, padding=0)\n",
        "    self.pool2 = nn.MaxPool2d(kernel_size=2, stride=2)\n",
        "    self.conv3 = nn.Conv2d(64, 64, kernel_size=3, stride=1, padding=0)\n",
        "\n",
        "    self.fc1 = nn.Linear(64 * 3 * 3, 64)\n",
        "    self.fc2 = nn.Linear(64, 10)\n",
        "    self.relu = nn.ReLU()\n",
        "    self.softmax = nn.Softmax(dim=1)\n",
        "\n",
        "  def forward(self, x):\n",
        "    x = self.relu(self.conv1(x))\n",
        "    x = self.pool1(x)\n",
        "    x = self.relu(self.conv2(x))\n",
        "    x = self.pool2(x)\n",
        "    x = self.relu(self.conv3(x))\n",
        "\n",
        "    x = x.view(x.size(0), -1)\n",
        "\n",
        "    x = self.relu(self.fc1(x))\n",
        "    x = self.fc2(x)\n",
        "\n",
        "    return x"
      ]
    },
    {
      "cell_type": "markdown",
      "metadata": {
        "id": "GDHq0tr4w-LQ"
      },
      "source": [
        "## Initialize model"
      ]
    },
    {
      "cell_type": "code",
      "execution_count": null,
      "metadata": {
        "id": "Lr7MPMtzxAFG"
      },
      "outputs": [],
      "source": [
        "device = torch.device(\"cuda\" if torch.cuda.is_available() else \"cpu\")\n",
        "model = DigitRecognitionModel().to(device)\n",
        "criterion = nn.CrossEntropyLoss()\n",
        "optimizer = optim.Adam(model.parameters())\n"
      ]
    },
    {
      "cell_type": "markdown",
      "metadata": {
        "id": "8NEJwEcnxgel"
      },
      "source": [
        "## Training function"
      ]
    },
    {
      "cell_type": "code",
      "execution_count": null,
      "metadata": {
        "id": "5wmnQXR7xh5G"
      },
      "outputs": [],
      "source": [
        "def train(mode, train_loader, optimiser, criterion, device):\n",
        "  model.train()\n",
        "  running_loss = 0.0\n",
        "  correct = 0\n",
        "  total = 0\n",
        "\n",
        "  for images, labels in train_loader:\n",
        "    images, labels = images.to(device), labels.to(device)\n",
        "\n",
        "    optimizer.zero_grad()\n",
        "\n",
        "    outputs = model(images)\n",
        "    loss = criterion(outputs, labels)\n",
        "\n",
        "    loss.backward()\n",
        "    optimizer.step()\n",
        "\n",
        "    running_loss += loss.item()\n",
        "    _, predicted = torch.max(outputs.data, 1)\n",
        "    total += labels.size(0)\n",
        "    correct += (predicted == labels).sum().item()\n",
        "\n",
        "  accuracy = 100 * correct / total\n",
        "  avg_loss = running_loss / len(train_loader)\n",
        "\n",
        "  return avg_loss, accuracy\n"
      ]
    },
    {
      "cell_type": "markdown",
      "metadata": {
        "id": "5G-Ya-ggznLM"
      },
      "source": [
        "## Evaluation function"
      ]
    },
    {
      "cell_type": "code",
      "execution_count": null,
      "metadata": {
        "id": "8RE4LeKlzivv"
      },
      "outputs": [],
      "source": [
        "def evaluate(model, test_loader, criterion, device):\n",
        "  model.eval()\n",
        "  running_loss = 0.0\n",
        "  correct = 0\n",
        "  total = 0\n",
        "\n",
        "  with torch.no_grad():\n",
        "    for images, labels in test_loader:\n",
        "      images, labels = images.to(device), labels.to(device)\n",
        "\n",
        "      outputs = model(images)\n",
        "      loss = criterion(outputs, labels)\n",
        "\n",
        "      running_loss += loss.item()\n",
        "      _, predicted = torch.max(outputs.data, 1)\n",
        "      total += labels.size(0)\n",
        "      correct += (predicted == labels).sum().item()\n",
        "\n",
        "  accuracy = 100 * correct / total\n",
        "  avg_loss = running_loss / len(test_loader)\n",
        "\n",
        "  return avg_loss, accuracy\n"
      ]
    },
    {
      "cell_type": "markdown",
      "metadata": {
        "id": "ve_55sDm0tQk"
      },
      "source": [
        "## Training"
      ]
    },
    {
      "cell_type": "code",
      "execution_count": null,
      "metadata": {
        "colab": {
          "base_uri": "https://localhost:8080/"
        },
        "id": "ttt-taYk0wMw",
        "outputId": "7817d028-ac78-48c0-90d8-56848df8c339"
      },
      "outputs": [],
      "source": [
        "epochs = 5\n",
        "\n",
        "for epoch in range(epochs):\n",
        "  train_loss, train_accuracy = train(model, train_loader, optimizer, criterion, device)\n",
        "  test_loss, test_accuracy = evaluate(model, test_loader, criterion, device)\n",
        "\n",
        "  print(f\"Epoch {epoch +1}/{epochs}\")\n",
        "  print(f\"Train Loss: {train_loss:.4f}, Train Accuracy: {train_accuracy:.2f}\")\n",
        "  print(f\"Test Loss: {test_loss:.4f}, Test Accuracy: {test_accuracy:.2f}\")\n",
        "  print(\"-\" * 60)\n",
        "\n",
        "\n",
        "# Final evaluation\n",
        "test_loss, test_accuracy = evaluate(model, test_loader, criterion, device)\n",
        "print(f\"Final Test Loss: {test_loss:.4f}, Final Test Accuracy: {test_accuracy:.2f}\")\n",
        "\n"
      ]
    },
    {
      "cell_type": "markdown",
      "metadata": {
        "id": "08nB2j9C3bL1"
      },
      "source": [
        "## Prediction"
      ]
    },
    {
      "cell_type": "code",
      "execution_count": null,
      "metadata": {
        "colab": {
          "base_uri": "https://localhost:8080/",
          "height": 322
        },
        "id": "2QZpQUVD2MYI",
        "outputId": "c878fd3d-f060-4c44-bb01-1c63bb28dcac"
      },
      "outputs": [],
      "source": [
        "num_examples = 5\n",
        "\n",
        "# Get random smaples\n",
        "example_idx = np.random.choice(len(test_dataset), num_examples)\n",
        "\n",
        "plt.figure(figsize=(12, 6))\n",
        "\n",
        "for i, idx in enumerate(example_idx):\n",
        "  image, true_label = test_dataset[idx]\n",
        "\n",
        "  # Predict\n",
        "  with torch.no_grad():\n",
        "    image = image.unsqueeze(0).to(device)\n",
        "    output = model(image)\n",
        "    probabilities = torch.nn.functional.softmax(output, dim=1)[0]\n",
        "    predicted_label = torch.argmax(probabilities).item()\n",
        "    confidence = probabilities[predicted_label].item() * 100\n",
        "\n",
        "  plt.subplot(1, num_examples, i+1)\n",
        "  plt.imshow(image.cpu().squeeze().numpy(), cmap=\"gray\")\n",
        "  plt.title(f\"True: {true_label}\\nPredicted: {predicted_label}\\nConfidence: {confidence:.2f}%\")\n",
        "  plt.axis(\"off\")\n",
        "\n",
        "plt.tight_layout()\n",
        "plt.show()"
      ]
    },
    {
      "cell_type": "markdown",
      "metadata": {
        "id": "515Y9CuF6kLM"
      },
      "source": [
        "## Save model"
      ]
    },
    {
      "cell_type": "code",
      "execution_count": null,
      "metadata": {
        "id": "PyeLgeft3V_j"
      },
      "outputs": [],
      "source": [
        "torch.save(model.state_dict(), 'digit_recognition_model.pth')"
      ]
    },
    {
      "cell_type": "code",
      "execution_count": null,
      "metadata": {
        "id": "ziFaRfnA6y_M"
      },
      "outputs": [],
      "source": []
    }
  ],
  "metadata": {
    "accelerator": "GPU",
    "colab": {
      "gpuType": "T4",
      "provenance": []
    },
    "kernelspec": {
      "display_name": "Python 3",
      "name": "python3"
    },
    "language_info": {
      "name": "python"
    }
  },
  "nbformat": 4,
  "nbformat_minor": 0
}

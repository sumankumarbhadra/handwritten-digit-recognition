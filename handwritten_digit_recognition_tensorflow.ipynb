{
  "cells": [
    {
      "cell_type": "markdown",
      "metadata": {
        "id": "lATd6XQUuWGw"
      },
      "source": [
        "# Digit recognition using the MNIST dataset."
      ]
    },
    {
      "cell_type": "markdown",
      "metadata": {
        "id": "zmC6Xq7ruiKG"
      },
      "source": [
        "## Import dependency"
      ]
    },
    {
      "cell_type": "code",
      "execution_count": null,
      "metadata": {
        "id": "wOugvB5uuBOo"
      },
      "outputs": [],
      "source": [
        "import tensorflow as tf\n",
        "from tensorflow.keras import layers, models\n",
        "import matplotlib.pyplot as plt"
      ]
    },
    {
      "cell_type": "markdown",
      "metadata": {
        "id": "3GaTzO3_uqLT"
      },
      "source": [
        "## Load and prepare the dataset"
      ]
    },
    {
      "cell_type": "code",
      "execution_count": null,
      "metadata": {
        "colab": {
          "base_uri": "https://localhost:8080/"
        },
        "id": "rsR9V3JZuuo1",
        "outputId": "c6885a80-51a4-463d-9dac-46305ab77ede"
      },
      "outputs": [],
      "source": [
        "# Load and prepare the MNIST dataset\n",
        "(train_images, train_labels), (test_images, test_labels) = tf.keras.datasets.mnist.load_data()\n",
        "\n",
        "# Normalize the images\n",
        "train_images = train_images / 255.0\n",
        "test_images = test_images / 255.0\n",
        "\n",
        "# Reshape for CNN input\n",
        "train_images = train_images.reshape(train_images.shape[0], 28, 28, 1)\n",
        "test_images = test_images.reshape(test_images.shape[0], 28, 28, 1)"
      ]
    },
    {
      "cell_type": "markdown",
      "metadata": {
        "id": "PrB0yG1Bu2rJ"
      },
      "source": [
        "## Build Model"
      ]
    },
    {
      "cell_type": "code",
      "execution_count": null,
      "metadata": {
        "colab": {
          "base_uri": "https://localhost:8080/"
        },
        "id": "yirrSo3Ou4J_",
        "outputId": "06d7028f-758c-4654-9f8d-942f82dc46ff"
      },
      "outputs": [],
      "source": [
        "# Build the CNN model\n",
        "model = models.Sequential([\n",
        "    layers.Conv2D(32, (3, 3), activation='relu', input_shape=(28, 28, 1)),\n",
        "    layers.MaxPooling2D((2, 2)),\n",
        "    layers.Conv2D(64, (3, 3), activation='relu'),\n",
        "    layers.MaxPooling2D((2, 2)),\n",
        "    layers.Conv2D(64, (3, 3), activation='relu'),\n",
        "    layers.Flatten(),\n",
        "    layers.Dense(64, activation='relu'),\n",
        "    layers.Dense(10, activation='softmax')\n",
        "])\n",
        "\n",
        "# Compile the model\n",
        "model.compile(optimizer='adam',\n",
        "              loss='sparse_categorical_crossentropy',\n",
        "              metrics=['accuracy'])"
      ]
    },
    {
      "cell_type": "markdown",
      "metadata": {
        "id": "XGLQdRQRu72t"
      },
      "source": [
        "## Training"
      ]
    },
    {
      "cell_type": "code",
      "execution_count": null,
      "metadata": {
        "colab": {
          "base_uri": "https://localhost:8080/"
        },
        "id": "9H0hcAHmu__N",
        "outputId": "0748d3c2-a92f-40a8-a626-6e6e5f7f6b82"
      },
      "outputs": [],
      "source": [
        "# Train the model\n",
        "history = model.fit(x=train_images,\n",
        "                    y=train_labels,\n",
        "                    epochs=5,\n",
        "                    validation_data=(test_images, test_labels),\n",
        "                    batch_size=128)\n"
      ]
    },
    {
      "cell_type": "markdown",
      "metadata": {
        "id": "B9OQRAW_vFQb"
      },
      "source": [
        "## Evaluate"
      ]
    },
    {
      "cell_type": "code",
      "execution_count": null,
      "metadata": {
        "colab": {
          "base_uri": "https://localhost:8080/"
        },
        "id": "Mr6oEjlSvGjU",
        "outputId": "aca5ae2d-cdf5-4497-d790-24d5b8e8e835"
      },
      "outputs": [],
      "source": [
        "# Evaluate the model\n",
        "test_loss, test_acc = model.evaluate(\n",
        "    x=test_images,\n",
        "    y=test_labels)\n",
        "print(f'Test accuracy: {test_acc:.4f}')"
      ]
    },
    {
      "cell_type": "markdown",
      "metadata": {
        "id": "Ye-9Q-jXxiqm"
      },
      "source": [
        "# Predict"
      ]
    },
    {
      "cell_type": "code",
      "execution_count": null,
      "metadata": {
        "colab": {
          "base_uri": "https://localhost:8080/",
          "height": 613
        },
        "id": "UD48oIzlxle6",
        "outputId": "f2a62b3c-24f0-4cc1-ad04-84623a02fefe"
      },
      "outputs": [],
      "source": [
        "import numpy as np\n",
        "\n",
        "num_examples = 5\n",
        "examples_idx = np.random.choice(test_images.shape[0], num_examples)\n",
        "\n",
        "predictions = model.predict(test_images[examples_idx])\n",
        "\n",
        "plt.figure(figsize=(12, 6))\n",
        "for i, idx in enumerate(examples_idx):\n",
        "    # Original image\n",
        "    plt.subplot(2, num_examples, i+1)\n",
        "    plt.imshow(test_images[idx].reshape(28, 28), cmap='gray')\n",
        "    plt.title(f\"True: {test_labels[idx]}\")\n",
        "    plt.axis('off')\n",
        "\n",
        "    # Prediction\n",
        "    plt.subplot(2, num_examples, i+1+num_examples)\n",
        "    predicted_label = np.argmax(predictions[i])\n",
        "    confidence = predictions[i][predicted_label] * 100\n",
        "    plt.text(0.5, 0.5, f\"Predicted: {predicted_label}\\nConfidence: {confidence:.2f}%\",\n",
        "             ha='center', va='center')\n",
        "    plt.axis('off')\n",
        "\n",
        "plt.tight_layout()\n",
        "plt.show()"
      ]
    },
    {
      "cell_type": "markdown",
      "metadata": {
        "id": "KlvAe54tvI_n"
      },
      "source": [
        "## Save model"
      ]
    },
    {
      "cell_type": "code",
      "execution_count": null,
      "metadata": {
        "id": "xHNQclZuvKXa"
      },
      "outputs": [],
      "source": [
        "# Save the model\n",
        "model.save('mnist_digit_model.keras')"
      ]
    },
    {
      "cell_type": "code",
      "execution_count": null,
      "metadata": {
        "id": "mwEFCAK-wUZa"
      },
      "outputs": [],
      "source": []
    }
  ],
  "metadata": {
    "accelerator": "GPU",
    "colab": {
      "gpuType": "T4",
      "provenance": []
    },
    "kernelspec": {
      "display_name": "Python 3",
      "name": "python3"
    },
    "language_info": {
      "name": "python"
    }
  },
  "nbformat": 4,
  "nbformat_minor": 0
}
